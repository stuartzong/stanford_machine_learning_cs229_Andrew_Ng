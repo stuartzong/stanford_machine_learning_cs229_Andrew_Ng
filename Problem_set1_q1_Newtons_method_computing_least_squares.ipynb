{
 "cells": [
  {
   "cell_type": "code",
   "execution_count": 19,
   "metadata": {},
   "outputs": [],
   "source": [
    "import os\n",
    "import pandas as pd\n",
    "import numpy as np\n",
    "import seaborn as sns\n",
    "import matplotlib.pyplot as plt\n",
    "import itertools\n",
    "\n",
    "%matplotlib inline\n",
    "from IPython.core.interactiveshell import InteractiveShell\n",
    "InteractiveShell.ast_node_interactivity = \"all\""
   ]
  },
  {
   "cell_type": "markdown",
   "metadata": {},
   "source": [
    "### 1. Newton’s method for computing least squares\n",
    "In this problem, we will prove that if we use Newton’s method solve the least squares\n",
    "optimization problem, then we only need one iteration to converge to $θ^∗$.\n",
    "\n",
    "(a) Find the Hessian of the cost function $J(θ) = \\frac{1}{2}\\sum_{i=1}^{m}(θ^T x^{(i)} − y^{(i)})^2$.\n",
    "\n",
    "(b) Show that the first iteration of Newton’s method gives us $θ^⋆ = (X^T X)^{−1}X^Ty^{hat}$, the\n",
    "solution to our least squares problem."
   ]
  },
  {
   "cell_type": "markdown",
   "metadata": {},
   "source": [
    "Hessian matrix is the second partial derivatives, f(x1, x2, ... xn), H is a nxn matrix.\n",
    "$H_{ij}= \\frac{\\partial ^2f}{\\partial x_i\\partial x_j}$ "
   ]
  },
  {
   "cell_type": "markdown",
   "metadata": {},
   "source": [
    "The cost function is $J(θ) = \\frac{1}{2}\\sum_{i=1}^{m}(θ^T x^{(i)} − y^{(i)})^2. θ ∈ R^n$ or n+1 dimensional vector if including intercept term $θ_0$."
   ]
  },
  {
   "cell_type": "markdown",
   "metadata": {},
   "source": [
    "\n",
    "\n",
    "### Some basics about matrix index notation\n",
    "suppose we have two matrices: $A=(A_{ij}) ∈ R^{nxm}$ and $B=(B_{ij}) ∈ R^{mxn}$. The matrix product $C=AB=(C_{ij})=\\sum_{k=1}^mA_{ik}B_{kj} ∈ R^{nxn}$. If we omit the summation and note repeated indices are to be summed, this can simply be written as  $C_{ij} = A_{ik}B_{kj}$.\n",
    "\n",
    "reference is here: https://pdfs.semanticscholar.org/7349/540ff102e701d4b171edbe510c0763ea60b3.pdf\n",
    "\n"
   ]
  },
  {
   "cell_type": "markdown",
   "metadata": {},
   "source": [
    "### (a) Find the Hessian of the cost function $J(θ) = \\frac{1}{2}\\sum_{i=1}^{m}(θ^T x^{(i)} − y^{(i)})^2$."
   ]
  },
  {
   "cell_type": "markdown",
   "metadata": {},
   "source": [
    "let's find the second derivatives of J(θ) with respect to θ, which is the H. In this case, $H ∈ R^{nxn}$\n",
    "$J(θ) = \\frac{1}{2}\\sum_{i=1}^{m}(θ^T x^{(i)} − y^{(i)})^2$\n",
    "\n",
    "$g(θ) = \\frac{\\partial J(θ)}{\\partial θ_i}=\\sum_{k=1}^{m}(θ^Tx^{(k)} - y^{(k)})x_i^{(k)}$\n",
    "\n",
    "$H_{ij} = \\frac{\\partial ^2J(θ)}{\\partial θ_i\\partial θ_j}=\\frac{\\partial g(θ)}{\\partial θ_j}=\\sum_{k=1}^m(x_i^{(k)}x_j^{(k)})$\n"
   ]
  },
  {
   "cell_type": "markdown",
   "metadata": {},
   "source": [
    "let $X ∈ R^{mxn}$ be the input matrix with m training examples and n features (living area, number of bedrooms, whatever)\n",
    "\n",
    "Using index notation, X can be written as $x_{ij}$ and $X^T$ can be written as $x_{ji}$\n",
    "\n",
    "\n",
    "$(X^TX)_{ij} = \\sum_{k=1}^{m}(X^T)_{ik}X_{kj}= \\sum_{k=1}^{m}X_{ki}X_{kj}=\\sum_{k=1}^m(x_i^{(k)}x_j^{(k)})=H_{ij}$\n",
    "\n",
    "Therefore, we have proved that: the Hessian of J(θ) is $H = X^TX$"
   ]
  },
  {
   "cell_type": "markdown",
   "metadata": {},
   "source": [
    "### (b) Show that the first iteration of Newton’s method gives us $θ^⋆ = (X^T X)^{−1}X^Ty$  the solution to our least squares problem."
   ]
  },
  {
   "cell_type": "markdown",
   "metadata": {},
   "source": [
    "#### below is linear algebra proof. here we omitted a hundered steps .... wish i know more \n",
    "according to the lecture notes 1:\n",
    "\n",
    "cost function's gradient is: $∇_θJ(θ) = X^TXθ − X^Ty$\n",
    "\n",
    "Newton's update rules: $ θ = θ - H^{-1}\\nabla_θJ(θ)$\n",
    "\n",
    "the Hessian of J(θ) is $H = X^TX$\n",
    "\n",
    "put them all together, the first update look like this:\n",
    "\n",
    "\\begin{align} \\label{eq1}\n",
    "\\begin{split}\n",
    "θ^{(1)} & = θ^{(0)} - H^{-1}\\nabla_θJ(θ^{(0)})\\\\\n",
    " & = θ^{(0)} -(X^TX)^{-1}(X^TXθ^{(0)} − X^Ty\\\\\n",
    " & = θ^{(0)} - θ^{(0)} + (X^TX)^{-1}X^Ty\\\\\n",
    " & = (X^TX)^{-1}X^Ty\n",
    "\\end{split}\n",
    "\\end{align}\n",
    "\n",
    "If you recall, this is exactly the normal equation, which finds the θ minizing the cost function J(θ). Therefore, this proves that whatever you initialize θ, Newton's method can always find the θ which minimizes J(θ) after one iteration. "
   ]
  },
  {
   "cell_type": "markdown",
   "metadata": {},
   "source": [
    "#### formating math equations:\n",
    "https://www.overleaf.com/learn/latex/Aligning_equations_with_amsmath#%2FAligning_several_equations"
   ]
  },
  {
   "cell_type": "markdown",
   "metadata": {},
   "source": [
    "### include an example to compare bach gradient descent and Newton's method to see if they converge to the same  $θ^⋆$"
   ]
  },
  {
   "cell_type": "markdown",
   "metadata": {},
   "source": [
    "this example is from Andrew Ng's courera machine learning course: linear regression"
   ]
  },
  {
   "cell_type": "code",
   "execution_count": 20,
   "metadata": {},
   "outputs": [
    {
     "data": {
      "text/plain": [
       "array([6.1101, 5.5277, 8.5186])"
      ]
     },
     "execution_count": 20,
     "metadata": {},
     "output_type": "execute_result"
    },
    {
     "data": {
      "text/plain": [
       "array([17.592 ,  9.1302, 13.662 ])"
      ]
     },
     "execution_count": 20,
     "metadata": {},
     "output_type": "execute_result"
    },
    {
     "data": {
      "text/plain": [
       "97"
      ]
     },
     "execution_count": 20,
     "metadata": {},
     "output_type": "execute_result"
    },
    {
     "data": {
      "text/plain": [
       "(97,)"
      ]
     },
     "execution_count": 20,
     "metadata": {},
     "output_type": "execute_result"
    },
    {
     "data": {
      "text/plain": [
       "(97,)"
      ]
     },
     "execution_count": 20,
     "metadata": {},
     "output_type": "execute_result"
    }
   ],
   "source": [
    "data = np.loadtxt(os.path.join('data', 'ex1data1.txt'), delimiter=',')\n",
    "X, y = data[:, 0], data[:, 1]\n",
    "m = y.size  \n",
    "X[:3]\n",
    "y[:3]\n",
    "m\n",
    "X.shape\n",
    "y.shape"
   ]
  },
  {
   "cell_type": "code",
   "execution_count": 21,
   "metadata": {},
   "outputs": [
    {
     "data": {
      "text/plain": [
       "<matplotlib.collections.PathCollection at 0x7f1de5f88d68>"
      ]
     },
     "execution_count": 21,
     "metadata": {},
     "output_type": "execute_result"
    },
    {
     "data": {
      "text/plain": [
       "Text(0,0.5,'Profit in $10,000')"
      ]
     },
     "execution_count": 21,
     "metadata": {},
     "output_type": "execute_result"
    },
    {
     "data": {
      "text/plain": [
       "Text(0.5,0,'Population of City in 10,000s')"
      ]
     },
     "execution_count": 21,
     "metadata": {},
     "output_type": "execute_result"
    },
    {
     "data": {
      "image/png": "[encoded data removed]",
      "text/plain": [
       "<Figure size 432x288 with 1 Axes>"
      ]
     },
     "metadata": {},
     "output_type": "display_data"
    }
   ],
   "source": [
    "fig = plt.figure()  \n",
    "plt.scatter(X, y, marker='.', s=68, c='red')\n",
    "plt.ylabel('Profit in $10,000')\n",
    "plt.xlabel('Population of City in 10,000s')\n",
    "plt.savefig('data_visalization.png', bbox_inches='tight',dpi=300)"
   ]
  },
  {
   "cell_type": "code",
   "execution_count": 22,
   "metadata": {},
   "outputs": [],
   "source": [
    "# Add a column of ones to X. The numpy function stack joins arrays along a given axis. \n",
    "# The first axis (axis=0) refers to rows (training examples) \n",
    "# and second axis (axis=1) refers to columns (features).\n",
    "X = np.stack([np.ones(m), X], axis=1)"
   ]
  },
  {
   "cell_type": "code",
   "execution_count": 23,
   "metadata": {},
   "outputs": [],
   "source": [
    "def computeCost(X, y, theta):      \n",
    "    # number of training examples\n",
    "    m = y.size  \n",
    "    J = 0\n",
    "    J = (np.sum((X @ theta - y)**2))/2/m\n",
    "    return J"
   ]
  },
  {
   "cell_type": "code",
   "execution_count": 24,
   "metadata": {},
   "outputs": [],
   "source": [
    "def gradientDescent(X, y, theta, alpha, num_iters):   \n",
    "    m = y.shape[0]  # number of training examples\n",
    "    theta = theta.copy()\n",
    "    J_history = [] \n",
    "    theta_history = []\n",
    "    for i in range(num_iters):        \n",
    "        # must update thetas simultaneously\n",
    "        theta_tmp = []    \n",
    "        for j in range(len(theta)): # partial derivative \n",
    "            gradient = (alpha/m) * np.sum(((X @ theta) - y) * X[:,j])\n",
    "            new_theta = theta[j] - gradient\n",
    "            theta_tmp.append(new_theta)        \n",
    "        theta = theta_tmp\n",
    "        theta_history.append(theta_tmp)\n",
    "        J_history.append(computeCost(X, y, theta))\n",
    "    # add in the intial theta and cost\n",
    "    theta_history = [init_theta.tolist()] + theta_history\n",
    "    J_history = [computeCost(X, y, init_theta)] + J_history\n",
    "    return theta, J_history, theta_history"
   ]
  },
  {
   "cell_type": "code",
   "execution_count": 25,
   "metadata": {},
   "outputs": [],
   "source": [
    "def gradient_descent_vectorized(X, y, theta, alpha, num_iters):   \n",
    "    m = y.shape[0]  # number of training examples\n",
    "    theta = theta.copy()\n",
    "    for i in range(num_iters):    \n",
    "        # vectorized implementation\n",
    "        gradients = (alpha/m) * ((X @ theta) - y) @ X\n",
    "        theta -= gradients  \n",
    "    return theta"
   ]
  },
  {
   "cell_type": "markdown",
   "metadata": {},
   "source": [
    "### Perform gradient descent to learn Theta by minimizing the cost function: $J(\\theta)$"
   ]
  },
  {
   "cell_type": "code",
   "execution_count": 26,
   "metadata": {},
   "outputs": [
    {
     "name": "stdout",
     "output_type": "stream",
     "text": [
      "Theta found by gradient descent: -3.8577, 1.1892\n",
      "Expected theta values (approximately): [-3.6303, 1.1664]\n"
     ]
    },
    {
     "data": {
      "text/plain": [
       "[[5, 4],\n",
       " [4.681999350515464, 0.9891407845730922],\n",
       " [4.612858797786178, 0.4551879003217243]]"
      ]
     },
     "execution_count": 26,
     "metadata": {},
     "output_type": "execute_result"
    }
   ],
   "source": [
    "# initialize fitting parameters\n",
    "# theta = np.zeros(2)\n",
    "# theta = np.ones(2)\n",
    "init_theta = np.array([5, 4])\n",
    "# some gradient descent settings\n",
    "iterations = 3000\n",
    "alpha = 0.01\n",
    "\n",
    "theta, J_history, theta_history = gradientDescent(X ,y, init_theta, alpha, iterations)\n",
    "print('Theta found by gradient descent: {:.4f}, {:.4f}'.format(*theta))\n",
    "print('Expected theta values (approximately): [-3.6303, 1.1664]')\n",
    "theta_history[:3]"
   ]
  },
  {
   "cell_type": "markdown",
   "metadata": {},
   "source": [
    "$θ^⋆ = (X^T X)^{−1}X^Ty$"
   ]
  },
  {
   "cell_type": "markdown",
   "metadata": {},
   "source": [
    "You can see Newton's method arrive at the correct theta in one iteration and this is independant to initial θ. $θ^⋆$ is actually the same as the resolution of normal equation."
   ]
  },
  {
   "cell_type": "code",
   "execution_count": 27,
   "metadata": {},
   "outputs": [
    {
     "data": {
      "text/plain": [
       "array([-3.89578088,  1.19303364])"
      ]
     },
     "execution_count": 27,
     "metadata": {},
     "output_type": "execute_result"
    }
   ],
   "source": [
    "theta_star = (np.linalg.inv(X.T@X)@X.T)@y\n",
    "theta_star"
   ]
  }
 ],
 "metadata": {
  "kernelspec": {
   "display_name": "Python 3",
   "language": "python",
   "name": "python3"
  },
  "language_info": {
   "codemirror_mode": {
    "name": "ipython",
    "version": 3
   },
   "file_extension": ".py",
   "mimetype": "text/x-python",
   "name": "python",
   "nbconvert_exporter": "python",
   "pygments_lexer": "ipython3",
   "version": "3.6.7"
  }
 },
 "nbformat": 4,
 "nbformat_minor": 2
}
